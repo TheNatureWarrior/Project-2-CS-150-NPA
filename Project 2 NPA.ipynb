{
 "cells": [
  {
   "cell_type": "markdown",
   "id": "3f1e50ca",
   "metadata": {},
   "source": [
    "### Naat Ambrosino, CS-150-01, Dr. Sarkar\n",
    "### Project 2, Caesar Cipher"
   ]
  },
  {
   "cell_type": "code",
   "execution_count": 3,
   "id": "5de7f60d",
   "metadata": {},
   "outputs": [],
   "source": [
    "def encoder(orgMsg, shift=3):\n",
    "    \"\"\"Shifts letters and numbers in a given string (orgMsg) by the given amount of positions (shift). Shift defaults to 3 if not inputted. ie, Encode('a',2) will return c\"\"\"\n",
    "    alpha=\"abcdefghijklmnopqrstuvwxyz\" #To encode: input 'a' and get 'd' for shift 3\n",
    "    ALPHA=\"ABCDEFGHIJKLMNOPQRSTUVWXYZ\"\n",
    "    other=\"1234567890~!#$%&'-+=/.,:; \"\n",
    "    encodedMsg=\"\"\n",
    "    for ch in orgMsg:\n",
    "        if ch in alpha:\n",
    "            indInAlpha=alpha.index(ch)\n",
    "            indOffd=((indInAlpha+shift)%(len(alpha)))\n",
    "            chShifted=alpha[indOffd]\n",
    "            encodedMsg+=chShifted\n",
    "        elif ch in ALPHA:\n",
    "            indInALPHA=ALPHA.index(ch)\n",
    "            indOffd=((indInALPHA+shift)%(len(ALPHA)))\n",
    "            chShifted=ALPHA[indOffd]\n",
    "            encodedMsg+=chShifted\n",
    "        elif ch in other:\n",
    "            indInOther=other.index(ch)\n",
    "            indOffd=((indInOther+shift)%(len(other)))\n",
    "            chShifted=other[indOffd]\n",
    "            encodedMsg+=chShifted\n",
    "        else:\n",
    "            encodedMsg+=ch\n",
    "    return encodedMsg"
   ]
  },
  {
   "cell_type": "code",
   "execution_count": null,
   "id": "907d5ec5",
   "metadata": {},
   "outputs": [],
   "source": []
  },
  {
   "cell_type": "code",
   "execution_count": 4,
   "id": "abafe5d6",
   "metadata": {},
   "outputs": [],
   "source": [
    "def decoder(orgMsg):\n",
    "    \"\"\"Decodes a message encoded via by displaying all possible character shifts. Works for Caeser Cipher type encoded message, specifically using the encoder function defined earlier in this project.\"\"\"\n",
    "    alpha=\"abcdefghijklmnopqrstuvwxyz\" #To encode: input 'a' and get 'd' for shift 3\n",
    "    ALPHA=\"ABCDEFGHIJKLMNOPQRSTUVWXYZ\"\n",
    "    other=\"1234567890~!#$%&'-+=/.,:; \"\n",
    "    for shift in range(1,27):\n",
    "        shiftedMsg=\"\"\n",
    "        for ch in orgMsg:\n",
    "            if ch in alpha:\n",
    "                indInAlpha=alpha.index(ch)\n",
    "                indOffd=((indInAlpha+shift)%(len(alpha)))\n",
    "                chShifted=alpha[indOffd]\n",
    "                shiftedMsg+=chShifted\n",
    "            elif ch in ALPHA:\n",
    "                indInALPHA=ALPHA.index(ch)\n",
    "                indOffd=((indInALPHA+shift)%(len(ALPHA)))\n",
    "                chShifted=ALPHA[indOffd]\n",
    "                shiftedMsg+=chShifted\n",
    "            elif ch in other:\n",
    "                indInOther=other.index(ch)\n",
    "                indOffd=((indInOther+shift)%(len(other)))\n",
    "                chShifted=other[indOffd]\n",
    "                shiftedMsg+=chShifted             \n",
    "            else:\n",
    "                shiftedMsg+=ch\n",
    "        print(\"Original Shift:\", 26-shift, \"Message:\", shiftedMsg) #Explanation: If you typed encoder(Message, Original Shift) for a given line of output of this function, it would return the message you input into this message\n",
    "        print(\"\")"
   ]
  },
  {
   "cell_type": "code",
   "execution_count": null,
   "id": "c2fc384f",
   "metadata": {},
   "outputs": [],
   "source": []
  },
  {
   "cell_type": "code",
   "execution_count": null,
   "id": "a2cdb8eb",
   "metadata": {},
   "outputs": [],
   "source": []
  }
 ],
 "metadata": {
  "kernelspec": {
   "display_name": "Python 3",
   "language": "python",
   "name": "python3"
  },
  "language_info": {
   "codemirror_mode": {
    "name": "ipython",
    "version": 3
   },
   "file_extension": ".py",
   "mimetype": "text/x-python",
   "name": "python",
   "nbconvert_exporter": "python",
   "pygments_lexer": "ipython3",
   "version": "3.8.8"
  }
 },
 "nbformat": 4,
 "nbformat_minor": 5
}
